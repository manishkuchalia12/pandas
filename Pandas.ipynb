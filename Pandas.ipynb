{
 "cells": [
  {
   "cell_type": "markdown",
   "id": "2904e27d-f3fa-4770-9425-fb119a4774b6",
   "metadata": {},
   "source": [
    "Q1. Create a Pandas Series that contains the following data: 4, 8, 15, 16, 23, and 42. Then, print the series."
   ]
  },
  {
   "cell_type": "code",
   "execution_count": null,
   "id": "907910b1-c9ac-464f-b152-a12bf3d4557c",
   "metadata": {},
   "outputs": [],
   "source": [
    "import pandas as pd\n",
    "\n",
    "data = [4, 8, 15, 16, 23, 42]\n",
    "my_series = pd.Series(data)\n",
    "\n",
    "print(my_series)\n"
   ]
  },
  {
   "cell_type": "markdown",
   "id": "472451e4-a322-4712-a4d7-6ffcd8e49e39",
   "metadata": {},
   "source": [
    "Q2. Create a variable of list type containing 10 elements in it, and apply pandas.Series function on the\n",
    "variable print it."
   ]
  },
  {
   "cell_type": "code",
   "execution_count": null,
   "id": "b77981be-fe96-491b-b9ee-ae3655ac3a38",
   "metadata": {},
   "outputs": [],
   "source": [
    "import pandas as pd\n",
    "\n",
    "my_list = [1, 2, 3, 4, 5, 6, 7, 8, 9, 10]\n",
    "my_series = pd.Series(my_list)\n",
    "\n",
    "print(my_series)\n"
   ]
  },
  {
   "cell_type": "markdown",
   "id": "d2fa5302-6672-487a-970e-7f06e30ab034",
   "metadata": {},
   "source": [
    "Q3. Create a Pandas DataFrame that contains the following data:\n",
    "\n",
    "Name\n",
    "Alice\n",
    "Bob\n",
    "Claire\n",
    "\n",
    "Age\n",
    "25\n",
    "30\n",
    "27\n",
    "\n",
    "Gender\n",
    "Female\n",
    "Male\n",
    "Female\n",
    "Then, print the DataFrame."
   ]
  },
  {
   "cell_type": "code",
   "execution_count": null,
   "id": "d1d9e9cc-040c-4abd-9c45-c29b0cb054fc",
   "metadata": {},
   "outputs": [],
   "source": [
    "import pandas as pd\n",
    "\n",
    "data = {\n",
    "    'Name': ['Alice', 'Bob', 'Claire'],\n",
    "    'Age': [25, 30, 27],\n",
    "    'Gender': ['Female', 'Male', 'Female']\n",
    "}\n",
    "\n",
    "my_dataframe = pd.DataFrame(data)\n",
    "\n",
    "print(my_dataframe)\n"
   ]
  },
  {
   "cell_type": "markdown",
   "id": "e6c896cd-3901-4e05-ae62-68b317628b82",
   "metadata": {},
   "source": [
    "Q4. What is ‘DataFrame’ in pandas and how is it different from pandas.series? Explain with an example.\n",
    "Ans:-\r\n",
    "In Pandas, both Series and DataFrame are data structures used for handling and manipulating tabular data, but they have some key differences.\n",
    "\r\n",
    "DataFram:\r\n",
    "\r\n",
    "A DataFrame is a two-dimensional, tabular data structure in Pandas. It can be thought of as a container for Series objects.\r\n",
    "It has rows and columns, where each column can be of a different data\n",
    "Series:\n",
    "\r\n",
    "A Series is a one-dimensional labeled array capable of holding any data type.\r\n",
    "It is like a single column of data in a DataFrame.\r\n",
    "Each element in a Series is assigned a label (index), which can be used to access the values. type."
   ]
  },
  {
   "cell_type": "code",
   "execution_count": null,
   "id": "2fba8b63-1439-459e-9cbd-6c40bc52ec20",
   "metadata": {},
   "outputs": [],
   "source": [
    "import pandas as pd\n",
    "# Creating a Series\n",
    "series_data = pd.Series([1, 2, 3, 4], name='MySeries')\n",
    "# Creating a DataFrame\n",
    "data = {'Name': ['Alice', 'Bob', 'Claire'],\n",
    "        'Age': [25, 30, 27],\n",
    "        'Gender': ['Female', 'Male', 'Female']}\n",
    "df = pd.DataFrame(data)\n",
    "# Displaying the Series and DataFrame\n",
    "print(\"Series:\")\n",
    "print(series_data)\n",
    "print(\"\\nDataFrame:\")\n",
    "print(df)\n"
   ]
  },
  {
   "cell_type": "markdown",
   "id": "7231d251-eebc-4d4d-8620-5df778a3f5ca",
   "metadata": {},
   "source": [
    "Q5. What are some common functions you can use to manipulate data in a Pandas DataFrame? Can\n",
    "you give an example of when you might use one of these functions?\n",
    "Ans:-Pandas provides a variety of functions for manipulating data in a DataFrame. Some common functions include:\r",
    "\r\n",
    "head() and tail(:\r\n",
    "\r\n",
    "head(n) returns the first n rows of the DataFrame.\r\n",
    "tail(n) returns the last n rows of the DataFrame."
   ]
  },
  {
   "cell_type": "code",
   "execution_count": null,
   "id": "989d6501-04a6-465b-ad13-bd64404f0d62",
   "metadata": {},
   "outputs": [],
   "source": [
    "df_head = df.head(2)  # Get the first 2 rows\n",
    "df_tail = df.tail(2)  # Get the last 2 rows"
   ]
  },
  {
   "cell_type": "markdown",
   "id": "13d7c51a-7b29-4827-abf5-6c45bff2fe7d",
   "metadata": {},
   "source": [
    "info():\n",
    "info() provides a concise summary of the DataFrame, including data types, non-null values, and memory usage."
   ]
  },
  {
   "cell_type": "code",
   "execution_count": null,
   "id": "60e4d9c0-a4fc-49e5-b829-48426e4c8111",
   "metadata": {},
   "outputs": [],
   "source": [
    "df_info = df.info()\n"
   ]
  },
  {
   "cell_type": "markdown",
   "id": "78f434a5-7617-4b46-a0e9-f903635f281b",
   "metadata": {},
   "source": [
    "Q6. Which of the following is mutable in nature Series, DataFrame, Panel?\n",
    "Ans:-Series is mutable. You can modify the values of a Series after it's been created."
   ]
  },
  {
   "cell_type": "code",
   "execution_count": null,
   "id": "4686d40e-0230-4cc2-88bf-8c4ee220b2e7",
   "metadata": {},
   "outputs": [],
   "source": [
    "import pandas as pd\n",
    "\n",
    "# Creating a Series\n",
    "my_series = pd.Series([1, 2, 3, 4])\n",
    "\n",
    "# Modifying a value in the Series\n",
    "my_series[2] = 10\n"
   ]
  },
  {
   "cell_type": "markdown",
   "id": "06c7b847-31d7-4042-9d67-75d09394e2db",
   "metadata": {},
   "source": [
    "DataFrame is also mutable. You can add, remove, or modify columns in a DataFrame."
   ]
  },
  {
   "cell_type": "code",
   "execution_count": null,
   "id": "3f3e608b-ed61-41d4-abd7-217ef056e8e2",
   "metadata": {},
   "outputs": [],
   "source": [
    "import pandas as pd\n",
    "\n",
    "# Creating a DataFrame\n",
    "data = {'A': [1, 2, 3], 'B': [4, 5, 6]}\n",
    "my_dataframe = pd.DataFrame(data)\n",
    "\n",
    "# Modifying a value in the DataFrame\n",
    "my_dataframe.at[0, 'A'] = 10\n",
    "\n",
    "# Adding a new column\n",
    "my_dataframe['C'] = [7, 8, 9]\n",
    "\n",
    "# Removing a column\n",
    "my_dataframe.drop('B', axis=1, inplace=True)\n"
   ]
  },
  {
   "cell_type": "code",
   "execution_count": null,
   "id": "383bdedc-07c6-47ce-8c92-47380d37ccbf",
   "metadata": {},
   "outputs": [],
   "source": [
    "Q7. Create a DataFrame using multiple Series. Explain with an example."
   ]
  }
 ],
 "metadata": {
  "kernelspec": {
   "display_name": "Python 3 (ipykernel)",
   "language": "python",
   "name": "python3"
  },
  "language_info": {
   "codemirror_mode": {
    "name": "ipython",
    "version": 3
   },
   "file_extension": ".py",
   "mimetype": "text/x-python",
   "name": "python",
   "nbconvert_exporter": "python",
   "pygments_lexer": "ipython3",
   "version": "3.12.0"
  }
 },
 "nbformat": 4,
 "nbformat_minor": 5
}
